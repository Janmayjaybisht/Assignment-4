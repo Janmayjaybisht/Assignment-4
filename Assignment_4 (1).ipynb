{
  "nbformat": 4,
  "nbformat_minor": 0,
  "metadata": {
    "colab": {
      "provenance": []
    },
    "kernelspec": {
      "name": "python3",
      "display_name": "Python 3"
    },
    "language_info": {
      "name": "python"
    }
  },
  "cells": [
    {
      "cell_type": "markdown",
      "source": [
        "# # Python OOPs Questions"
      ],
      "metadata": {
        "id": "dKg173UMdOD_"
      }
    },
    {
      "cell_type": "markdown",
      "source": [
        "1. What is Object-Oriented Programming (OOP)?\n",
        "    - Object-Oriented Programming (OOP) is a way to design software using \"objects.\" These objects group related data and actions together, making code easier to understand, reuse, and manage.It focuses on concepts like classes,inheritance,and methods.\n",
        "\n",
        "2.  What is a class in OOP?\n",
        "    - A class in OOP is like a blueprint for creating objects.It defines the structure and behavior of the object by specifying its properties (data) and methods (actions).Objects are built using this class template.\n",
        "\n",
        "3. What is an object in OOP?\n",
        "    - An object in OOP is a specific thing created from a class (blueprint).It has properties (data) and methods (actions) defined by the class. For example, a car object might have color (property) and drive (method).\n",
        "\n",
        "4.  What is the difference between abstraction and encapsulation?\n",
        "    - Abstraction hides complex details, showing only important features to users (like using a TV without knowing how it works).Encapsulation bundles data and methods together,restricting direct access to protect and organize it better.\n",
        "\n",
        "5. What are dunder methods in Python?\n",
        "    - Dunder methods (short for \"double underscore\") in Python are special methods surrounded by __ (e.g., __init__). They let you define object behaviors,like how it initializes, adds, or represents itself.They're also called magic methods.\n",
        "\n",
        "6. Explain the concept of inheritance in OOP?\n",
        "    - Inheritance in OOP allows a class (child) to reuse and extend the features of another class (parent).The child class gets the parent's properties and methods,making code reusable and easier to maintain.\n",
        "\n",
        "7. What is polymorphism in OOP?\n",
        "    - Polymorphism in OOP means \"one thing, many forms.\" It lets objects from different classes use the same method name but behave differently.For example, a draw() method could work for both a circle and a rectangle.\n",
        "\n",
        "8. How is encapsulation achieved in Python?\n",
        "    - Encapsulation in Python is achieved by bundling data (attributes) and methods in a class. You can control access using access modifiers: public (name), protected (_name), and private (__name).This helps protect and organize the data effectively.\n",
        "\n",
        "9. What is a constructor in Python?\n",
        "    - A constructor in Python is a special method called __init__.It runs automatically when creating an object from a class. It helps initialize the object by setting its properties (data) with values provided during creation.\n",
        "\n",
        "10. What are class and static methods in Python?\n",
        "    - In Python,class methods use @classmethod and work with the class itself, not objects, accessing or changing class-level data.Static methods use @staticmethod and don’t depend on class or object data; they’re like independent functions inside a class.\n",
        "\n",
        "11. What is method overloading in Python?\n",
        "    - Method overloading in Python allows defining multiple methods with the same name but different parameters.However, Python doesn't support true overloading. Instead, you can use default arguments or variable-length arguments to simulate overloading behavior.\n",
        "\n",
        "12. What is method overriding in OOP?\n",
        "    - Method overriding in OOP happens when a child class provides its own version of a method that already exists in the parent class.This allows the child class to change or extend the behavior of the inherited method.\n",
        "\n",
        "13. What is a property decorator in Python?\n",
        "    - A property decorator in Python, written as @property,allows you to define a method that acts like an attribute.It lets you access the method as if it were a variable,providing control over getting, setting, or deleting values.\n",
        "\n",
        "14. Why is polymorphism important in OOP?\n",
        "    - Polymorphism is important in OOP because it allows different objects to use the same method name but behave differently.This promotes code reusability,flexibility,and easier maintenance,as you can work with various object types using a common interface.\n",
        "\n",
        "15. What is an abstract class in Python?\n",
        "    - An abstract class in Python is a class that cannot be instantiated directly.It serves as a blueprint for other classes.It may contain abstract methods, which must be implemented by any subclass that inherits from it.\n",
        "\n",
        "16. What are the advantages of OOP?\n",
        "    - OOP offers several advantages: it makes code reusable,easier to maintain,and more organized. It encourages modular design,where objects can be updated independently.OOP also improves scalability and allows for clear modeling of real-world problems.\n",
        "\n",
        "17.  What is the difference between a class variable and an instance variable?\n",
        "    - A class variable is shared by all instances of a class,meaning its value is the same for every object.An instance variable is specific to each object,so each instance can have its own unique value.\n",
        "\n",
        "18. What is multiple inheritance in Python?\n",
        "    - Multiple inheritance in Python allows a class to inherit properties and methods from more than one parent class.This helps a child class combine features from multiple parents,but it requires careful handling to avoid conflicts between inherited methods.\n",
        "\n",
        "19. Explain the purpose of ‘’__str__’ and ‘__repr__’ ‘ methods in Python?\n",
        "    - The `__str__` method in Python defines a readable, user-friendly string for an object, often for printing.The `__repr__` method provides a detailed, developer-focused string for debugging.Both help represent objects as text in different\n",
        "\n",
        "20.  What is the significance of the ‘super()’ function in Python?\n",
        "    - The `super()` function in Python lets a child class access methods or properties of its parent class. It's commonly used to call the parent class's `__init__` method,ensuring inherited behaviors are initialized properly without rewriting code.\n",
        "\n",
        "21. What is the significance of the __del__ method in Python?\n",
        "    - The `__del__` method in Python is a special method called when an object is deleted or goes out of scope.It lets you clean up resources (like closing files) before the object is removed from memory.\n",
        "\n",
        "22.  What is the difference between @staticmethod and @classmethod in Python?\n",
        "    - In Python, `@staticmethod` defines a method that doesn’t use class or object data. `@classmethod` uses `cls` to work with class-level data.Use `@staticmethod` for independent tasks and `@classmethod` for tasks related to the class itself.\n",
        "\n",
        "23.  How does polymorphism work in Python with inheritance?\n",
        "    - In Python,polymorphism with inheritance lets child classes have methods with the same name as in the parent class. Each child class can customize the method's behavior,allowing the same method name to work differently for different objects.\n",
        "\n",
        "24. What is method chaining in Python OOP?\n",
        "    - Method chaining in Python OOP means calling multiple methods on the same object in a single line. Each method returns the object itself (`self`),allowing you to \"chain\" calls for cleaner,more concise code.\n",
        "\n",
        "25. What is the purpose of the __call__ method in Python\n",
        "    - The `__call__` method in Python lets an object be used like a function. If defined in a class, you can call objects of that class directly,executing the logic inside the `__call__` method."
      ],
      "metadata": {
        "id": "hwzgCmXSdXAi"
      }
    },
    {
      "cell_type": "markdown",
      "source": [
        "# Practical Questions"
      ],
      "metadata": {
        "id": "p7bUzBWcl0uL"
      }
    },
    {
      "cell_type": "markdown",
      "source": [
        "1. Create a parent class Animal with a method speak() that prints a generic message. Create a child class Dog\n",
        "that overrides the speak() method to print \"Bark!\""
      ],
      "metadata": {
        "id": "r7r5ibVrl642"
      }
    },
    {
      "cell_type": "code",
      "source": [
        "class Animal:\n",
        "    def speak(self):\n",
        "        print(\"This is a generic animal sound.\")\n",
        "\n",
        "class Dog(Animal):\n",
        "    def speak(self):\n",
        "        print(\"Bark!\")"
      ],
      "metadata": {
        "id": "ObOqiSAQly7p"
      },
      "execution_count": null,
      "outputs": []
    },
    {
      "cell_type": "markdown",
      "source": [
        "2. Write a program to create an abstract class Shape with a method area(). Derive classes Circle and Rectangle\n",
        "from it and implement the area() method in both."
      ],
      "metadata": {
        "id": "XeG-X33ZeLiR"
      }
    },
    {
      "cell_type": "code",
      "source": [
        "from abc import ABC, abstractmethod\n",
        "\n",
        "# Abstract class\n",
        "class Shape(ABC):\n",
        "    @abstractmethod\n",
        "    def area(self):\n",
        "        pass  # Abstract method,no implementation here\n",
        "\n",
        "# Circle class\n",
        "class Circle(Shape):\n",
        "    def __init__(self, radius):\n",
        "        self.radius = radius\n",
        "\n",
        "    def area(self):\n",
        "        return 3.14 * self.radius ** 2  # Area of a circle formula\n",
        "\n",
        "# Rectangle class\n",
        "class Rectangle(Shape):\n",
        "    def __init__(self, width, height):\n",
        "        self.width = width\n",
        "        self.height = height\n",
        "\n",
        "    def area(self):\n",
        "        return self.width * self.height  # Area of a rectangle formula\n",
        "\n",
        "# Example usage\n",
        "circle = Circle(5)\n",
        "print(f\"Area of Circle: {circle.area()}\")  # Output: Area of Circle: 78.5\n",
        "\n",
        "rectangle = Rectangle(4, 6)\n",
        "print(f\"Area of Rectangle: {rectangle.area()}\")  # Output: Area of Rectangle: 24\n"
      ],
      "metadata": {
        "colab": {
          "base_uri": "https://localhost:8080/"
        },
        "id": "kggIvjeodf3-",
        "outputId": "e76ffc16-8222-4db3-9b80-9e8f6a06b1d4"
      },
      "execution_count": null,
      "outputs": [
        {
          "output_type": "stream",
          "name": "stdout",
          "text": [
            "Area of Circle: 78.5\n",
            "Area of Rectangle: 24\n"
          ]
        }
      ]
    },
    {
      "cell_type": "markdown",
      "source": [
        "3. Implement a multi-level inheritance scenario where a class Vehicle has an attribute type. Derive a class Car\n",
        "and further derive a class ElectricCar that adds a battery attribute."
      ],
      "metadata": {
        "id": "13y8CF5DhYJq"
      }
    },
    {
      "cell_type": "code",
      "source": [
        "class Vehicle:\n",
        "    def __init__(self, vehicle_type):\n",
        "        self.vehicle_type = vehicle_type\n",
        "\n",
        "    def display_type(self):\n",
        "        print(f\"Vehicle Type: {self.vehicle_type}\")\n",
        "\n",
        "class Car(Vehicle):\n",
        "    def __init__(self, vehicle_type, brand):\n",
        "        super().__init__(vehicle_type)# Call the parent class constructor\n",
        "        self.brand = brand\n",
        "\n",
        "    def display_brand(self):\n",
        "        print(f\"Car Brand: {self.brand}\")\n",
        "\n",
        "class ElectricCar(Car):\n",
        "    def __init__(self, vehicle_type, brand, battery_capacity):\n",
        "        super().__init__(vehicle_type, brand)# Call the parent class constructor\n",
        "        self.battery_capacity = battery_capacity\n",
        "\n",
        "    def display_battery(self):\n",
        "        print(f\"Battery Capacity: {self.battery_capacity} kWh\")"
      ],
      "metadata": {
        "id": "1Uxu2SY7hQ1t"
      },
      "execution_count": null,
      "outputs": []
    },
    {
      "cell_type": "markdown",
      "source": [
        "4. Implement a multi-level inheritance scenario where a class Vehicle has an attribute type. Derive a class Car\n",
        "and further derive a class ElectricCar that adds a battery attribute.\n",
        "   \n",
        "    - qouestion is repeated.\n",
        "    - 3rd and 4th qouestion are same with the same answer ."
      ],
      "metadata": {
        "id": "ws0gEQK-jE9y"
      }
    },
    {
      "cell_type": "markdown",
      "source": [
        "5. Write a program to demonstrate encapsulation by creating a class BankAccount with private attributes\n",
        "balance and methods to deposit, withdraw, and check balance."
      ],
      "metadata": {
        "id": "DfyCYRFmjcbz"
      }
    },
    {
      "cell_type": "code",
      "source": [
        "class Bank:\n",
        "  def __init__(self , balance):\n",
        "    self.__balance = balance\n",
        "\n",
        "  def deposit(self , Amount):\n",
        "    self.__balance = self.__balance + Amount\n",
        "\n",
        "\n",
        "  def withdraw(self , Amount):\n",
        "    if self.__balance >= Amount:\n",
        "      self.__balance = self.__balance - Amount\n",
        "      return True\n",
        "    else:\n",
        "      return False\n",
        "\n",
        "def get_balance(self):\n",
        "    return self.__balance\n",
        "\n",
        "\n",
        "\n"
      ],
      "metadata": {
        "id": "At469AL2iuXx"
      },
      "execution_count": null,
      "outputs": []
    },
    {
      "cell_type": "markdown",
      "source": [
        "6. Demonstrate runtime polymorphism using a method play() in a base class Instrument. Derive classes Guitar\n",
        "and Piano that implement their own version of play()."
      ],
      "metadata": {
        "id": "T55SL62zm2WU"
      }
    },
    {
      "cell_type": "code",
      "source": [
        "class Instrument:\n",
        "    def play(self):\n",
        "        print(\"Playing an instrument.\")\n",
        "\n",
        "class Guitar(Instrument):\n",
        "    def play(self):\n",
        "        print(\"Strumming the guitar!\")\n",
        "\n",
        "class Piano(Instrument):\n",
        "    def play(self):\n",
        "        print(\"Playing the piano!\")\n",
        "\n",
        "def perform(instrument):\n",
        "    instrument.play()"
      ],
      "metadata": {
        "id": "itOCRPOemuFd"
      },
      "execution_count": null,
      "outputs": []
    },
    {
      "cell_type": "markdown",
      "source": [
        "7. Create a class MathOperations with a class method add_numbers() to add two numbers and a static\n",
        "method subtract_numbers() to subtract two numbers."
      ],
      "metadata": {
        "id": "HIT5TxJIopuH"
      }
    },
    {
      "cell_type": "code",
      "source": [
        "class MathOperations:\n",
        "    @classmethod\n",
        "    def add_numbers(cls, num1, num2):\n",
        "        return num1 + num2  # Adds two numbers\n",
        "\n",
        "    @staticmethod\n",
        "    def subtract_numbers(num1, num2):\n",
        "        return num1 - num2\n",
        "\n",
        "\n",
        "  # Call the class method\n",
        "result_add = MathOperations.add_numbers(5, 3)\n",
        "print(f\"Addition Result: {result_add}\")  # Output: Addition Result: 8\n",
        "\n",
        "# Call the static method\n",
        "result_subtract = MathOperations.subtract_numbers(10, 4)\n",
        "print(f\"Subtraction Result: {result_subtract}\")"
      ],
      "metadata": {
        "colab": {
          "base_uri": "https://localhost:8080/"
        },
        "id": "tW0K4QZnootI",
        "outputId": "a196ad81-00d3-4d0c-c347-e3fb6a5ab57b"
      },
      "execution_count": null,
      "outputs": [
        {
          "output_type": "stream",
          "name": "stdout",
          "text": [
            "Addition Result: 8\n",
            "Subtraction Result: 6\n"
          ]
        }
      ]
    },
    {
      "cell_type": "markdown",
      "source": [
        "8. Implement a class Person with a class method to count the total number of persons created."
      ],
      "metadata": {
        "id": "iBNi-0aTp9qm"
      }
    },
    {
      "cell_type": "code",
      "source": [
        "class Person:\n",
        "    total_persons = 0\n",
        "    def __init__(self, name):\n",
        "        self.name = name\n",
        "        Person.total_persons += 1\n",
        "    @classmethod\n",
        "    def get_total_persons(cls):\n",
        "        return f\"Total persons created: {cls.total_persons}\"\n",
        "\n",
        "# Example usage\n",
        "person1 = Person(\"Alice\")\n",
        "person2 = Person(\"Bob\")\n",
        "person3 = Person(\"Charlie\")\n",
        "\n",
        "print(Person.get_total_persons())\n"
      ],
      "metadata": {
        "colab": {
          "base_uri": "https://localhost:8080/"
        },
        "id": "dCfC_r8cppgf",
        "outputId": "208be9f1-e7c1-407d-9aad-7f94ac1ec9bf"
      },
      "execution_count": null,
      "outputs": [
        {
          "output_type": "stream",
          "name": "stdout",
          "text": [
            "Total persons created: 3\n"
          ]
        }
      ]
    },
    {
      "cell_type": "markdown",
      "source": [
        "9. Write a class Fraction with attributes numerator and denominator. Override the str method to display the\n",
        "fraction as \"numerator/denominator\"."
      ],
      "metadata": {
        "id": "dkpQ0885qr5M"
      }
    },
    {
      "cell_type": "code",
      "source": [
        "class Fraction:\n",
        "    def __init__(self, numerator, denominator):\n",
        "        self.numerator = numerator\n",
        "        self.denominator = denominator\n",
        "\n",
        "    def __str__(self):\n",
        "        return f\"{self.numerator}/{self.denominator}\"\n",
        "\n",
        "# Example usage\n",
        "fraction = Fraction(3, 4)\n",
        "print(fraction)  # Output: 3/4\n"
      ],
      "metadata": {
        "colab": {
          "base_uri": "https://localhost:8080/"
        },
        "id": "UvXOthIyqjFI",
        "outputId": "f88c9a54-0c7a-47a3-aaae-50f8c3dc0f23"
      },
      "execution_count": null,
      "outputs": [
        {
          "output_type": "stream",
          "name": "stdout",
          "text": [
            "3/4\n"
          ]
        }
      ]
    },
    {
      "cell_type": "markdown",
      "source": [
        "10. Demonstrate operator overloading by creating a class Vector and overriding the add method to add two\n",
        "vectors."
      ],
      "metadata": {
        "id": "Djwjn4VyrqNB"
      }
    },
    {
      "cell_type": "code",
      "source": [
        "class Vector:\n",
        "    def __init__(self, x, y):\n",
        "        self.x = x\n",
        "        self.y = y\n",
        "\n",
        "    def __add__(self, other):\n",
        "\n",
        "        return Vector(self.x + other.x, self.y + other.y)\n",
        "\n",
        "    def __str__(self):\n",
        "\n",
        "        return f\"Vector({self.x}, {self.y})\"\n",
        "\n",
        "# Example usage\n",
        "v1 = Vector(2, 3)\n",
        "v2 = Vector(4, 5)\n",
        "\n",
        "result = v1 + v2\n",
        "print(result)"
      ],
      "metadata": {
        "colab": {
          "base_uri": "https://localhost:8080/"
        },
        "id": "uL4QbvTrrov9",
        "outputId": "d588d450-653f-4548-99c2-ca2dea41d093"
      },
      "execution_count": null,
      "outputs": [
        {
          "output_type": "stream",
          "name": "stdout",
          "text": [
            "Vector(6, 8)\n"
          ]
        }
      ]
    },
    {
      "cell_type": "markdown",
      "source": [
        "11. Create a class Person with attributes name and age. Add a method greet() that prints \"Hello, my name is\n",
        "{name} and I am {age} years old."
      ],
      "metadata": {
        "id": "67nIFuhIuJhZ"
      }
    },
    {
      "cell_type": "code",
      "source": [
        "class Person:\n",
        "  def __init__(self , name , age):\n",
        "      self.name = name\n",
        "      self.age = age\n",
        "\n",
        "  def greet(self):\n",
        "    print(f\"Hello , my name is {self.name} and i am {self.age} years old.\")\n",
        "\n",
        "  # example\n",
        "  person1 = Person(\"Alice\" , 30)\n",
        "  person1.greet()\n"
      ],
      "metadata": {
        "colab": {
          "base_uri": "https://localhost:8080/"
        },
        "id": "jsD-A27MuHm9",
        "outputId": "df328712-60f4-42cb-f0ae-8285f67d0417"
      },
      "execution_count": null,
      "outputs": [
        {
          "output_type": "stream",
          "name": "stdout",
          "text": [
            "Hello , my name is Alice and i am 30 years old.\n"
          ]
        }
      ]
    },
    {
      "cell_type": "markdown",
      "source": [
        "12. Implement a class Student with attributes name and grades.Create a method average_grade() to compute\n",
        "the average of the grades."
      ],
      "metadata": {
        "id": "NVXRvVRxwC-z"
      }
    },
    {
      "cell_type": "code",
      "source": [
        "class Student:\n",
        "    def __init__(self, name, grades):\n",
        "        self.name = name\n",
        "        self.grades = grades\n",
        "\n",
        "    def average_grade(self):\n",
        "        return sum(self.grades) / len(self.grades)\n",
        "# Example usage\n",
        "student1 = Student(\"John\", [90, 80, 85, 70])\n",
        "print(f\"Average grade: {student1.average_grade()}\")\n"
      ],
      "metadata": {
        "colab": {
          "base_uri": "https://localhost:8080/"
        },
        "id": "6qWBq16Tvwem",
        "outputId": "274fd61e-e834-4b6f-8072-9eb57dfb8388"
      },
      "execution_count": null,
      "outputs": [
        {
          "output_type": "stream",
          "name": "stdout",
          "text": [
            "Average grade: 81.25\n"
          ]
        }
      ]
    },
    {
      "cell_type": "markdown",
      "source": [
        "13. Create a class Rectangle with methods set_dimensions() to set the dimensions and area() to calculate the\n",
        "area."
      ],
      "metadata": {
        "id": "ebBipFtfxG2d"
      }
    },
    {
      "cell_type": "code",
      "source": [
        "class Rectangle:\n",
        "    def __init__(self):\n",
        "        self.width = 0\n",
        "        self.height = 0\n",
        "\n",
        "    def set_dimensions(self, width, height):\n",
        "        self.width = width\n",
        "        self.height = height\n",
        "\n",
        "    def area(self):\n",
        "        return self.width * self.height"
      ],
      "metadata": {
        "id": "i_kMGZ7CxEze"
      },
      "execution_count": null,
      "outputs": []
    },
    {
      "cell_type": "markdown",
      "source": [
        "14. Create a class Employee with a method calculate_salary() that computes the salary based on hours worked\n",
        "and hourly rate. Create a derived class Manager that adds a bonus to the salary."
      ],
      "metadata": {
        "id": "twYgSUlIzEQ_"
      }
    },
    {
      "cell_type": "code",
      "source": [
        "class Employee:\n",
        "    def __init__(self, hours_worked, hourly_rate):\n",
        "        self.hours_worked = hours_worked\n",
        "        self.hourly_rate = hourly_rate\n",
        "\n",
        "    def calculate_salary(self):\n",
        "        return self.hours_worked * self.hourly_rate\n",
        "\n",
        "class Manager(Employee):\n",
        "    def __init__(self, hours_worked, hourly_rate, bonus):\n",
        "        super().__init__(hours_worked, hourly_rate)\n",
        "        self.bonus = bonus\n",
        "\n",
        "    def calculate_salary(self):\n",
        "        return super().calculate_salary() + self.bonus\n"
      ],
      "metadata": {
        "id": "i_fBbCA5zDPy"
      },
      "execution_count": null,
      "outputs": []
    },
    {
      "cell_type": "markdown",
      "source": [
        "15. Create a class Product with attributes name, price, and quantity. Implement a method total_price() that\n",
        "calculates the total price of the product"
      ],
      "metadata": {
        "id": "Oh8dOlrwaAGa"
      }
    },
    {
      "cell_type": "code",
      "source": [
        "class Product:\n",
        "    def __init__(self, name, price, quantity):\n",
        "        self.name = name\n",
        "        self.price = price\n",
        "        self.quantity = quantity\n",
        "\n",
        "    def total_price(self):\n",
        "      return self.price * self.quantity\n",
        "\n",
        " # example\n",
        "\n",
        "product = Product(\"Laptop\", 1000, 3)\n",
        "print(f\"Total Price: {product.total_price()}\")"
      ],
      "metadata": {
        "colab": {
          "base_uri": "https://localhost:8080/"
        },
        "id": "7yqnnMYGZ0bj",
        "outputId": "2d580753-ee93-4baa-ca4a-0f2366cb8737"
      },
      "execution_count": null,
      "outputs": [
        {
          "output_type": "stream",
          "name": "stdout",
          "text": [
            "Total Price: 3000\n"
          ]
        }
      ]
    },
    {
      "cell_type": "markdown",
      "source": [
        "16. Create a class Animal with an abstract method sound().Create two derived classes Cow and Sheep that\n",
        "implement the sound() method."
      ],
      "metadata": {
        "id": "cPjp61ImbzK6"
      }
    },
    {
      "cell_type": "code",
      "source": [
        "from abc import ABC, abstractmethod\n",
        "\n",
        "# Abstract class\n",
        "class Animal(ABC):\n",
        "    @abstractmethod\n",
        "    def sound(self):\n",
        "        pass\n",
        "\n",
        "# Derived class 1\n",
        "class Cow(Animal):\n",
        "    def sound(self):\n",
        "        print(\"Moo!\")\n",
        "\n",
        "# Derived class 2\n",
        "class Sheep(Animal):\n",
        "    def sound(self):\n",
        "        print(\"Baa!\")\n",
        "\n",
        "# Example usage\n",
        "cow = Cow()\n",
        "cow.sound()  # Output: Moo!\n",
        "\n",
        "sheep = Sheep()\n",
        "sheep.sound()  # Output: Baa!\n"
      ],
      "metadata": {
        "colab": {
          "base_uri": "https://localhost:8080/"
        },
        "id": "yJOucb-Fa2tm",
        "outputId": "b1af585d-8cfe-428d-cc64-c409507b27c4"
      },
      "execution_count": null,
      "outputs": [
        {
          "output_type": "stream",
          "name": "stdout",
          "text": [
            "Moo!\n",
            "Baa!\n"
          ]
        }
      ]
    },
    {
      "cell_type": "markdown",
      "source": [
        "17. Create a class Book with attributes title, author, and year_published. Add a method get_book_info() that\n",
        "returns a formatted string with the book's details."
      ],
      "metadata": {
        "id": "psY5zdVSdNpj"
      }
    },
    {
      "cell_type": "code",
      "source": [
        "class Book:\n",
        "    def __init__(self, title, author, year_published):\n",
        "        self.title = title\n",
        "        self.author = author\n",
        "        self.year_published = year_published\n",
        "\n",
        "    def get_book_info(self):\n",
        "        return f\"'{self.title}' by {self.author}, published in {self.year_published}.\"\n",
        "\n",
        "# Example usage\n",
        "book = Book(\"1984\", \"George Orwell\", 1949)\n",
        "print(book.get_book_info())"
      ],
      "metadata": {
        "colab": {
          "base_uri": "https://localhost:8080/"
        },
        "id": "yV2t1OKTdLsP",
        "outputId": "94a85499-4c42-4c83-aeea-d305464a3315"
      },
      "execution_count": null,
      "outputs": [
        {
          "output_type": "stream",
          "name": "stdout",
          "text": [
            "'1984' by George Orwell, published in 1949.\n"
          ]
        }
      ]
    },
    {
      "cell_type": "markdown",
      "source": [
        "18. Create a class House with attributes address and price. Create a derived class Mansion that adds an\n",
        "attribute number_of_rooms."
      ],
      "metadata": {
        "id": "B2t36Pjed5b1"
      }
    },
    {
      "cell_type": "code",
      "source": [
        "class House:\n",
        "    def __init__(self, address, price):\n",
        "        self.address = address\n",
        "        self.price = price\n",
        "\n",
        "class Mansion(House):\n",
        "    def __init__(self, address, price, number_of_rooms):\n",
        "        super().__init__(address, price)\n",
        "        self.number_of_rooms = number_of_rooms\n",
        "\n",
        "# Example usage\n",
        "mansion = Mansion(\"123 Luxury Lane\", 2000000, 10)\n",
        "print(f\"Address: {mansion.address}\")\n",
        "print(f\"Price: ${mansion.price}\")\n",
        "print(f\"Number of Rooms: {mansion.number_of_rooms}\")\n"
      ],
      "metadata": {
        "colab": {
          "base_uri": "https://localhost:8080/"
        },
        "id": "DZlEMhRMd4Ig",
        "outputId": "8425db82-5a88-4205-b9f4-b9a161fc0dd1"
      },
      "execution_count": null,
      "outputs": [
        {
          "output_type": "stream",
          "name": "stdout",
          "text": [
            "Address: 123 Luxury Lane\n",
            "Price: $2000000\n",
            "Number of Rooms: 10\n"
          ]
        }
      ]
    }
  ]
}